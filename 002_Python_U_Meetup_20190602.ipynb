{
  "nbformat": 4,
  "nbformat_minor": 0,
  "metadata": {
    "colab": {
      "name": "002 Python U Meetup 20190602.ipynb",
      "version": "0.3.2",
      "provenance": [],
      "collapsed_sections": [],
      "include_colab_link": true
    },
    "kernelspec": {
      "name": "python3",
      "display_name": "Python 3"
    }
  },
  "cells": [
    {
      "cell_type": "markdown",
      "metadata": {
        "id": "view-in-github",
        "colab_type": "text"
      },
      "source": [
        "<a href=\"https://colab.research.google.com/github/Python-U/meetup/blob/master/002_Python_U_Meetup_20190602.ipynb\" target=\"_parent\"><img src=\"https://colab.research.google.com/assets/colab-badge.svg\" alt=\"Open In Colab\"/></a>"
      ]
    },
    {
      "cell_type": "markdown",
      "metadata": {
        "id": "lKPNO2uDGhU5",
        "colab_type": "text"
      },
      "source": [
        "![alt text](https://secure.meetupstatic.com/photos/event/6/9/8/8/global_479847016.jpeg) "
      ]
    },
    {
      "cell_type": "markdown",
      "metadata": {
        "id": "CHCBsJ1Ou8a7",
        "colab_type": "text"
      },
      "source": [
        "# Welcome to Python U Meetup #2"
      ]
    },
    {
      "cell_type": "markdown",
      "metadata": {
        "id": "wXYGIxPOvNfS",
        "colab_type": "text"
      },
      "source": [
        "### Quick tutorial\n",
        "- This Google Colab Python 3 notebook contains two types of cells, \"*code*\" cells and \"*text*\" cells.\n",
        "- To run the Python code in each code cell or display the formatted text in a text cell, just selct the cell and press **Shift + Enter ** on your keyboard.\n",
        "- You can also click on the Play button ▶️ on the far left of the cell to run the code. Text cells do not have a play button.\n",
        "- Double-click inside a cell to edit the contents.\n",
        "- To add a cell, you can click on \"**+CODE**\" or \"**+TEXT**\" on the toolbar above or hover  your mouse between two cells and click on \"**+CODE**\" or \"**+TEXT**\" from the pop-up.\n",
        "- To delete a cell, click on the three dots ⠸ on the far right of the cell and select \"Delete cell.\""
      ]
    },
    {
      "cell_type": "markdown",
      "metadata": {
        "id": "RYL4G5iXTfjz",
        "colab_type": "text"
      },
      "source": [
        "## Review Quiz\n",
        "\n",
        "\n",
        "\n",
        "\n",
        "1.   What is the difference between a 'float' and an 'integer?'\n",
        "2.   What is a 'boolean?'\n",
        "3.   How do you check the 'type' of a variable?\n",
        "4.   How do you check how many items are in a list variable?\n",
        "5.   Describe the order of arithmetic operators in Python.\n",
        "\n",
        "\n",
        "\n"
      ]
    },
    {
      "cell_type": "markdown",
      "metadata": {
        "id": "po5X1Go7L1Pq",
        "colab_type": "text"
      },
      "source": [
        "## Code Review 1\n",
        "\n",
        "### Print out the string \"Hello World!\" using the 'f-string' print function.\n",
        "\n",
        "```\n",
        "# Example\n",
        "name = \"World\"\n",
        "print(f\"Hello {name}!\")\n",
        "```\n",
        "\n"
      ]
    },
    {
      "cell_type": "code",
      "metadata": {
        "id": "-csMbkzUL8uJ",
        "colab_type": "code",
        "colab": {}
      },
      "source": [
        ""
      ],
      "execution_count": 0,
      "outputs": []
    },
    {
      "cell_type": "markdown",
      "metadata": {
        "id": "oRM8lhc2L9K9",
        "colab_type": "text"
      },
      "source": [
        "## Code Review 2\n",
        "\n",
        "```\n",
        "# Create two new variables of any name and assign them the values of two different numbers.\n",
        "# Print out the mathematical product (multiply) of the two variables.\n",
        "\n",
        "# Example\n",
        "a = 5\n",
        "b = 100\n",
        "print(a * b)\n",
        "```\n",
        "\n"
      ]
    },
    {
      "cell_type": "code",
      "metadata": {
        "id": "QWTjKrH1MiXn",
        "colab_type": "code",
        "colab": {}
      },
      "source": [
        ""
      ],
      "execution_count": 0,
      "outputs": []
    },
    {
      "cell_type": "markdown",
      "metadata": {
        "id": "avPLpkwtMm-P",
        "colab_type": "text"
      },
      "source": [
        "## Code Review 3\n",
        "\n",
        "\n",
        "\n",
        "```\n",
        "# Create a variable of a list of 5 numbers and print out the first three items in the list.\n",
        "\n",
        "# Example\n",
        "my_numbers = [1, 2, 3, 4, 5]\n",
        "\n",
        "print(my_number[0:3])\n",
        "```\n",
        "\n"
      ]
    },
    {
      "cell_type": "code",
      "metadata": {
        "id": "jvOm-YlaSV8y",
        "colab_type": "code",
        "colab": {}
      },
      "source": [
        ""
      ],
      "execution_count": 0,
      "outputs": []
    },
    {
      "cell_type": "markdown",
      "metadata": {
        "id": "_GL5l4QnWBha",
        "colab_type": "text"
      },
      "source": [
        "\n",
        "\n",
        "---\n",
        "\n"
      ]
    },
    {
      "cell_type": "markdown",
      "metadata": {
        "id": "E_mcSXvMGLY1",
        "colab_type": "text"
      },
      "source": [
        "\n",
        "\n",
        "---\n",
        "\n"
      ]
    },
    {
      "cell_type": "markdown",
      "metadata": {
        "id": "5ZKAJp7dU283",
        "colab_type": "text"
      },
      "source": [
        "## Comparing values!\n",
        "\n",
        "\n",
        "\n",
        "```\n",
        "a = 1\n",
        "b = 2\n",
        "\n",
        "a < b    # True, variable 'a' is less than variable 'b'\n",
        "\n",
        "```\n",
        "\n"
      ]
    },
    {
      "cell_type": "code",
      "metadata": {
        "id": "LM5F8LM81-9e",
        "colab_type": "code",
        "colab": {}
      },
      "source": [
        ""
      ],
      "execution_count": 0,
      "outputs": []
    },
    {
      "cell_type": "markdown",
      "metadata": {
        "id": "IMyIIyWr2EDe",
        "colab_type": "text"
      },
      "source": [
        "\n",
        "\n",
        "```\n",
        "100 > 50 # True, 100 is greater than 50\n",
        "\n",
        "```\n",
        "\n"
      ]
    },
    {
      "cell_type": "code",
      "metadata": {
        "id": "rofh300o2HHZ",
        "colab_type": "code",
        "colab": {}
      },
      "source": [
        ""
      ],
      "execution_count": 0,
      "outputs": []
    },
    {
      "cell_type": "markdown",
      "metadata": {
        "id": "ZDtsB2Mn2H4a",
        "colab_type": "text"
      },
      "source": [
        "\n",
        "\n",
        "```\n",
        "60 < 45  # False, 60 is not less than 45\n",
        "```\n",
        "\n"
      ]
    },
    {
      "cell_type": "code",
      "metadata": {
        "id": "IpvxefEu2Jrv",
        "colab_type": "code",
        "colab": {}
      },
      "source": [
        ""
      ],
      "execution_count": 0,
      "outputs": []
    },
    {
      "cell_type": "markdown",
      "metadata": {
        "id": "I5KgzKeX2NzE",
        "colab_type": "text"
      },
      "source": [
        "\n",
        "\n",
        "```\n",
        "'x' <= 'b'\n",
        "```\n",
        "\n"
      ]
    },
    {
      "cell_type": "code",
      "metadata": {
        "id": "x7c0IuV72Wui",
        "colab_type": "code",
        "colab": {}
      },
      "source": [
        ""
      ],
      "execution_count": 0,
      "outputs": []
    },
    {
      "cell_type": "markdown",
      "metadata": {
        "id": "HnOYU30wSb9v",
        "colab_type": "text"
      },
      "source": [
        "# ' if ' statement"
      ]
    },
    {
      "cell_type": "markdown",
      "metadata": {
        "id": "UidWoCybZpbm",
        "colab_type": "text"
      },
      "source": [
        "### Let's first define some variables, *Game of Thrones* style!\n",
        "\n",
        "![alt text](https://letstalkcinemamovie.files.wordpress.com/2019/03/night-king-jets.jpg?w=349&h=230)\n",
        "\n",
        "\n",
        "```\n",
        "wildlings = 30\n",
        "white_walkers = 50\n",
        "dire_wolves = 25\n",
        "```\n",
        "\n"
      ]
    },
    {
      "cell_type": "code",
      "metadata": {
        "id": "mTZjubWaZ4u7",
        "colab_type": "code",
        "colab": {}
      },
      "source": [
        ""
      ],
      "execution_count": 0,
      "outputs": []
    },
    {
      "cell_type": "markdown",
      "metadata": {
        "id": "AIX-ktZ5VAcq",
        "colab_type": "text"
      },
      "source": [
        "### Compare the number of wildlings to white walkers!\n",
        "![alt text](https://encrypted-tbn0.gstatic.com/images?q=tbn:ANd9GcRKAhHh-4y5sQxE_skdIsEOP7NolSLlyS75heHL735Z63e6FStP)\n",
        "\n",
        "```\n",
        "if wildlings < white_walkers:\n",
        "    print \"Too many white walkers! Winterfell is doomed!\"\n",
        "\n",
        "if wildlings > white_walkers:\n",
        "    print \"Not many white walkers! Westeros is saved!\"\n",
        "\n",
        "```\n",
        "\n"
      ]
    },
    {
      "cell_type": "code",
      "metadata": {
        "id": "m6HdZovGVLUE",
        "colab_type": "code",
        "colab": {}
      },
      "source": [
        ""
      ],
      "execution_count": 0,
      "outputs": []
    },
    {
      "cell_type": "markdown",
      "metadata": {
        "id": "Op3vqlJHaKQ7",
        "colab_type": "text"
      },
      "source": [
        "### Now compare the number of wildlings with dire wolves.\n",
        "\n",
        "```\n",
        "if wildlings < dire_wolves:\n",
        "    print \"The wildlings will become food!\"\n",
        "\n",
        "if wildlings > dire_wolves:\n",
        "    print \"The dire wolves will become pets!\"\n",
        "\n",
        "```\n",
        "\n"
      ]
    },
    {
      "cell_type": "code",
      "metadata": {
        "id": "0yw7pxD1ajOc",
        "colab_type": "code",
        "colab": {}
      },
      "source": [
        ""
      ],
      "execution_count": 0,
      "outputs": []
    },
    {
      "cell_type": "markdown",
      "metadata": {
        "id": "q33U7nEUajiq",
        "colab_type": "text"
      },
      "source": [
        "### Another pack of hungry dire wolves has suddenly shown up in the woods near Winterfell!\n",
        "![alt text](https://cdn.chatsports.com/cache/6f/22/6f2213145c8f6e973fa7b8e69947bbfb-original.jpg)\n",
        "\n",
        "\n",
        "```\n",
        "dire_wolves += 5\n",
        "\n",
        "if wildlings >= dire_wolves:\n",
        "    print \"Wildlings are greater than or equal to dire wolves.\"\n",
        "\n",
        "if wildlings <= dire_wolves:\n",
        "    print \"Wildlings are less than or equal to dire wolves.\"\n",
        "\n",
        "if wildlings == dire_wolves:\n",
        "    print \"Wildlings are dire wolves.\"\n",
        "```\n",
        "\n"
      ]
    },
    {
      "cell_type": "code",
      "metadata": {
        "id": "nQidO2rsauWM",
        "colab_type": "code",
        "colab": {}
      },
      "source": [
        ""
      ],
      "execution_count": 0,
      "outputs": []
    },
    {
      "cell_type": "markdown",
      "metadata": {
        "id": "l99Y2xV5F5TW",
        "colab_type": "text"
      },
      "source": [
        "---"
      ]
    },
    {
      "cell_type": "markdown",
      "metadata": {
        "id": "7_8woBexF8ez",
        "colab_type": "text"
      },
      "source": [
        "\n",
        "\n",
        "---\n",
        "\n"
      ]
    },
    {
      "cell_type": "markdown",
      "metadata": {
        "id": "vAZuZs4zGa8_",
        "colab_type": "text"
      },
      "source": [
        "# *if / elif / else*  statement\n"
      ]
    },
    {
      "cell_type": "markdown",
      "metadata": {
        "id": "o3EnGmbaGgOD",
        "colab_type": "text"
      },
      "source": [
        "\n",
        "\n",
        "```\n",
        "print(\"Pick a number between 1 and 100.\")\n",
        "my_number = int(input(\"> \"))\n",
        "\n",
        "if my_number < 50:\n",
        "    print(\"Your number is less than 50.\")\n",
        "elif my_number > 50:\n",
        "    print(\"Your number is greater than 50.\")\n",
        "else:\n",
        "    print(\"Your number is 50.\")\n",
        "```\n",
        "\n"
      ]
    },
    {
      "cell_type": "code",
      "metadata": {
        "id": "frk4zuESHIjI",
        "colab_type": "code",
        "colab": {}
      },
      "source": [
        ""
      ],
      "execution_count": 0,
      "outputs": []
    },
    {
      "cell_type": "markdown",
      "metadata": {
        "id": "047DOVHNKmZj",
        "colab_type": "text"
      },
      "source": [
        "\n",
        "\n",
        "---\n",
        "\n"
      ]
    },
    {
      "cell_type": "markdown",
      "metadata": {
        "id": "pdmvP5tkKskR",
        "colab_type": "text"
      },
      "source": [
        "\n",
        "\n",
        "---\n",
        "\n"
      ]
    },
    {
      "cell_type": "markdown",
      "metadata": {
        "id": "gv-o1nArKw0m",
        "colab_type": "text"
      },
      "source": [
        "\n",
        "\n",
        "---\n",
        "\n"
      ]
    },
    {
      "cell_type": "markdown",
      "metadata": {
        "id": "Hs7evna4V76C",
        "colab_type": "text"
      },
      "source": [
        "## Let's use if/elif/else statements to create a simple game below!\n",
        "\n",
        "![alt text](https://i.imgur.com/rJA4fDO.gif)\n",
        "\n",
        "```\n",
        "# Define the dragon names\n",
        "dragon1 = \"Drogon\"\n",
        "dragon2 = \"Rhaegal\"\n",
        "dragon3 = \"Viserion\"\n",
        "\n",
        "# Start the game\n",
        "print(\"Khaleesi, which dragon will you ride to battle?\")\n",
        "print(f\"1. {dragon1}\")\n",
        "print(f\"2. {dragon2}\")\n",
        "print(f\"3. {dragon3}\")\n",
        "\n",
        "dragon = input(\"Type number > \")\n",
        "\n",
        "# If you chose Drogon\n",
        "if dragon == \"1\":\n",
        "    print(\"You see Euron Greyjoy's Iron Fleet approaching? What do you do?\")\n",
        "    print(\"1. Ignore the ships and head to King's Landing.\")\n",
        "    print(\"2. Fly away and hope Euron doesn't fire the scorpion harpoon.\")\n",
        "    print(\"3. Dracarys!\")\n",
        "\n",
        "    dragon1_action = input(\"Type number > \")\n",
        "\n",
        "    if dragon1_action == \"1\":\n",
        "        print(\"RESULT_1\")\n",
        "    elif dragon1_action == \"2\":\n",
        "        print(\"RESULT_2\")\n",
        "    else:\n",
        "        print(\"RESULT_3\")\n",
        "\n",
        "# If you chose Rhaegal\n",
        "elif dragon == \"2\":\n",
        "    print(\"Rhaegal has flown to King's Landing! What do you do?\")\n",
        "    print(\"1. ACTION_1\")\n",
        "    print(\"2. ACTION_2\")\n",
        "    print(\"3. ACTION_3\")\n",
        "\n",
        "    dragon2_action = input(\"Type number > \")\n",
        "\n",
        "    if dragon2_action == \"1\":\n",
        "        print(\"RESULT_1\")\n",
        "    elif dragon2_action == \"2\":\n",
        "        print(\"RESULT_2\")\n",
        "    else:\n",
        "        print(\"RESULT_3\")\n",
        "\n",
        "# If you chose Viserion\n",
        "else:\n",
        "    print(\"Oh no! Viserion has been turned into the Ice Dragon and destroyed The Wall. The white walkers have won, my queen.\")\n",
        "    \n",
        "# End of game\n",
        "```\n",
        "\n"
      ]
    },
    {
      "cell_type": "code",
      "metadata": {
        "id": "y5A6D95mQ6xH",
        "colab_type": "code",
        "colab": {}
      },
      "source": [
        ""
      ],
      "execution_count": 0,
      "outputs": []
    },
    {
      "cell_type": "markdown",
      "metadata": {
        "id": "DI91vNTjQznl",
        "colab_type": "text"
      },
      "source": [
        "\n",
        "\n",
        "---\n",
        "\n"
      ]
    },
    {
      "cell_type": "markdown",
      "metadata": {
        "id": "95tbaEHnU-lk",
        "colab_type": "text"
      },
      "source": [
        "## Great job! You've reached the end of this notebook!"
      ]
    }
  ]
}